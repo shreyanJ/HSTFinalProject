{
 "cells": [
  {
   "cell_type": "markdown",
   "metadata": {},
   "source": [
    "<h3>Data Description</h3>\n",
    "<p>\n",
    "    The `admissions_processed_morphine_sulfate.csv` file is processed as follows, and is a combination of the `PRESCRIPTIONS.csv`, `ADMISSIONS.csv` and `PATIENTS.csv` files found from the MIMIC-III database,\n",
    "    <ul>\n",
    "        <li> There are `6618` unique patients. Each patient could have had multiple hospital stays, but we only considered the first hospital stay that the patient had. The rationale is that we wanted a first impression of the patient.\n",
    "        <li> These 6618 patients comprise four ethnicities: [WHITE, BLACK, ASIAN, HISPANIC] </li>\n",
    "        <li> The diagnosis that were selected for consideration were only those that were shared by all four ethnic groups, there is a distribution of these diagnostics among each group in the other jupyter notebook. </li>\n",
    "        <li> Ages were calculated by taking the difference between birthdate and admittime, for ages that were negative due to HIPAA compliance, we readjusted them to all be 89. </li>\n",
    "        <li> 122 covariates are considered: [age, HOSPITAL_EXPIRE_FLAG, DIAGNOSIS:%s (114 of them), hosp_duration, INSURANCE (5 types)] </li>\n",
    "        <li> Only patients that were administered morphine sulfate were then considered, we looked at the total amount they were administered for their single hospital stay duration by taking the FORM_VAL_RX value of the drug.\n",
    "    </ul>\n",
    "</p>\n",
    "<p> Covariates are described above, there are 122 of them, e.g. age and different diagnosis types </p>\n",
    "<p>Treatment is done by comparing one ethnic group vs the rest, e.g. (WHITE vs [ASIAN, BLACK, HISPANIC]) or (BLACK vs [ASIAN, WHITE, HISPANIC) </p>\n",
    "<p>Output is the amount of the morphine sulfate the patient is administered</p>\n"
   ]
  },
  {
   "cell_type": "code",
   "execution_count": 1,
   "metadata": {},
   "outputs": [],
   "source": [
    "import pandas as pd\n",
    "import numpy as np\n",
    "import sys\n",
    "from sklearn.linear_model import LogisticRegression\n",
    "from sklearn.ensemble import GradientBoostingClassifier"
   ]
  },
  {
   "cell_type": "code",
   "execution_count": 2,
   "metadata": {},
   "outputs": [],
   "source": [
    "df = pd.read_csv(\"./data/admissions_processed_morphine_sulfate.csv\")"
   ]
  },
  {
   "cell_type": "code",
   "execution_count": 3,
   "metadata": {},
   "outputs": [
    {
     "data": {
      "text/html": [
       "<div>\n",
       "<style scoped>\n",
       "    .dataframe tbody tr th:only-of-type {\n",
       "        vertical-align: middle;\n",
       "    }\n",
       "\n",
       "    .dataframe tbody tr th {\n",
       "        vertical-align: top;\n",
       "    }\n",
       "\n",
       "    .dataframe thead th {\n",
       "        text-align: right;\n",
       "    }\n",
       "</style>\n",
       "<table border=\"1\" class=\"dataframe\">\n",
       "  <thead>\n",
       "    <tr style=\"text-align: right;\">\n",
       "      <th></th>\n",
       "      <th>ROW_ID</th>\n",
       "      <th>SUBJECT_ID</th>\n",
       "      <th>HADM_ID</th>\n",
       "      <th>ADMITTIME</th>\n",
       "      <th>DISCHTIME</th>\n",
       "      <th>DEATHTIME</th>\n",
       "      <th>ADMISSION_TYPE</th>\n",
       "      <th>ADMISSION_LOCATION</th>\n",
       "      <th>DISCHARGE_LOCATION</th>\n",
       "      <th>INSURANCE</th>\n",
       "      <th>...</th>\n",
       "      <th>MARITAL_STATUS</th>\n",
       "      <th>ETHNICITY</th>\n",
       "      <th>EDREGTIME</th>\n",
       "      <th>EDOUTTIME</th>\n",
       "      <th>DIAGNOSIS</th>\n",
       "      <th>HOSPITAL_EXPIRE_FLAG</th>\n",
       "      <th>HAS_CHARTEVENTS_DATA</th>\n",
       "      <th>age</th>\n",
       "      <th>TOTAL_FORM_VAL_DISP_MAX</th>\n",
       "      <th>drug</th>\n",
       "    </tr>\n",
       "  </thead>\n",
       "  <tbody>\n",
       "    <tr>\n",
       "      <th>0</th>\n",
       "      <td>10</td>\n",
       "      <td>11</td>\n",
       "      <td>194540</td>\n",
       "      <td>2178-04-16 06:18:00</td>\n",
       "      <td>2178-05-11 19:00:00</td>\n",
       "      <td>NaN</td>\n",
       "      <td>EMERGENCY</td>\n",
       "      <td>EMERGENCY ROOM ADMIT</td>\n",
       "      <td>HOME HEALTH CARE</td>\n",
       "      <td>Private</td>\n",
       "      <td>...</td>\n",
       "      <td>MARRIED</td>\n",
       "      <td>WHITE</td>\n",
       "      <td>2178-04-15 20:46:00</td>\n",
       "      <td>2178-04-16 06:53:00</td>\n",
       "      <td>brain mass</td>\n",
       "      <td>0</td>\n",
       "      <td>1</td>\n",
       "      <td>50</td>\n",
       "      <td>1.25</td>\n",
       "      <td>Morphine Sulfate</td>\n",
       "    </tr>\n",
       "    <tr>\n",
       "      <th>1</th>\n",
       "      <td>12</td>\n",
       "      <td>13</td>\n",
       "      <td>143045</td>\n",
       "      <td>2167-01-08 18:43:00</td>\n",
       "      <td>2167-01-15 15:15:00</td>\n",
       "      <td>NaN</td>\n",
       "      <td>EMERGENCY</td>\n",
       "      <td>TRANSFER FROM HOSP/EXTRAM</td>\n",
       "      <td>HOME HEALTH CARE</td>\n",
       "      <td>Medicaid</td>\n",
       "      <td>...</td>\n",
       "      <td>NaN</td>\n",
       "      <td>WHITE</td>\n",
       "      <td>NaN</td>\n",
       "      <td>NaN</td>\n",
       "      <td>coronary artery disease</td>\n",
       "      <td>0</td>\n",
       "      <td>1</td>\n",
       "      <td>39</td>\n",
       "      <td>2.00</td>\n",
       "      <td>Morphine Sulfate</td>\n",
       "    </tr>\n",
       "    <tr>\n",
       "      <th>2</th>\n",
       "      <td>18</td>\n",
       "      <td>20</td>\n",
       "      <td>157681</td>\n",
       "      <td>2183-04-28 09:45:00</td>\n",
       "      <td>2183-05-03 14:45:00</td>\n",
       "      <td>NaN</td>\n",
       "      <td>ELECTIVE</td>\n",
       "      <td>PHYS REFERRAL/NORMAL DELI</td>\n",
       "      <td>HOME</td>\n",
       "      <td>Medicare</td>\n",
       "      <td>...</td>\n",
       "      <td>WIDOWED</td>\n",
       "      <td>WHITE</td>\n",
       "      <td>NaN</td>\n",
       "      <td>NaN</td>\n",
       "      <td>coronary artery disease\\coronary artery bypass...</td>\n",
       "      <td>0</td>\n",
       "      <td>1</td>\n",
       "      <td>75</td>\n",
       "      <td>3.00</td>\n",
       "      <td>Morphine Sulfate</td>\n",
       "    </tr>\n",
       "    <tr>\n",
       "      <th>3</th>\n",
       "      <td>19</td>\n",
       "      <td>21</td>\n",
       "      <td>109451</td>\n",
       "      <td>2134-09-11 12:17:00</td>\n",
       "      <td>2134-09-24 16:15:00</td>\n",
       "      <td>NaN</td>\n",
       "      <td>EMERGENCY</td>\n",
       "      <td>EMERGENCY ROOM ADMIT</td>\n",
       "      <td>REHAB/DISTINCT PART HOSP</td>\n",
       "      <td>Medicare</td>\n",
       "      <td>...</td>\n",
       "      <td>MARRIED</td>\n",
       "      <td>WHITE</td>\n",
       "      <td>2134-09-11 09:22:00</td>\n",
       "      <td>2134-09-11 22:30:00</td>\n",
       "      <td>congestive heart failure</td>\n",
       "      <td>0</td>\n",
       "      <td>1</td>\n",
       "      <td>87</td>\n",
       "      <td>2.00</td>\n",
       "      <td>Morphine Sulfate</td>\n",
       "    </tr>\n",
       "    <tr>\n",
       "      <th>4</th>\n",
       "      <td>22</td>\n",
       "      <td>23</td>\n",
       "      <td>152223</td>\n",
       "      <td>2153-09-03 07:15:00</td>\n",
       "      <td>2153-09-08 19:10:00</td>\n",
       "      <td>NaN</td>\n",
       "      <td>ELECTIVE</td>\n",
       "      <td>PHYS REFERRAL/NORMAL DELI</td>\n",
       "      <td>HOME HEALTH CARE</td>\n",
       "      <td>Medicare</td>\n",
       "      <td>...</td>\n",
       "      <td>MARRIED</td>\n",
       "      <td>WHITE</td>\n",
       "      <td>NaN</td>\n",
       "      <td>NaN</td>\n",
       "      <td>coronary artery disease\\coronary artery bypass...</td>\n",
       "      <td>0</td>\n",
       "      <td>1</td>\n",
       "      <td>71</td>\n",
       "      <td>0.40</td>\n",
       "      <td>Morphine Sulfate</td>\n",
       "    </tr>\n",
       "  </tbody>\n",
       "</table>\n",
       "<p>5 rows × 22 columns</p>\n",
       "</div>"
      ],
      "text/plain": [
       "   ROW_ID  SUBJECT_ID  HADM_ID            ADMITTIME            DISCHTIME  \\\n",
       "0      10          11   194540  2178-04-16 06:18:00  2178-05-11 19:00:00   \n",
       "1      12          13   143045  2167-01-08 18:43:00  2167-01-15 15:15:00   \n",
       "2      18          20   157681  2183-04-28 09:45:00  2183-05-03 14:45:00   \n",
       "3      19          21   109451  2134-09-11 12:17:00  2134-09-24 16:15:00   \n",
       "4      22          23   152223  2153-09-03 07:15:00  2153-09-08 19:10:00   \n",
       "\n",
       "  DEATHTIME ADMISSION_TYPE         ADMISSION_LOCATION  \\\n",
       "0       NaN      EMERGENCY       EMERGENCY ROOM ADMIT   \n",
       "1       NaN      EMERGENCY  TRANSFER FROM HOSP/EXTRAM   \n",
       "2       NaN       ELECTIVE  PHYS REFERRAL/NORMAL DELI   \n",
       "3       NaN      EMERGENCY       EMERGENCY ROOM ADMIT   \n",
       "4       NaN       ELECTIVE  PHYS REFERRAL/NORMAL DELI   \n",
       "\n",
       "         DISCHARGE_LOCATION INSURANCE        ...        MARITAL_STATUS  \\\n",
       "0          HOME HEALTH CARE   Private        ...               MARRIED   \n",
       "1          HOME HEALTH CARE  Medicaid        ...                   NaN   \n",
       "2                      HOME  Medicare        ...               WIDOWED   \n",
       "3  REHAB/DISTINCT PART HOSP  Medicare        ...               MARRIED   \n",
       "4          HOME HEALTH CARE  Medicare        ...               MARRIED   \n",
       "\n",
       "  ETHNICITY            EDREGTIME            EDOUTTIME  \\\n",
       "0     WHITE  2178-04-15 20:46:00  2178-04-16 06:53:00   \n",
       "1     WHITE                  NaN                  NaN   \n",
       "2     WHITE                  NaN                  NaN   \n",
       "3     WHITE  2134-09-11 09:22:00  2134-09-11 22:30:00   \n",
       "4     WHITE                  NaN                  NaN   \n",
       "\n",
       "                                           DIAGNOSIS HOSPITAL_EXPIRE_FLAG  \\\n",
       "0                                         brain mass                    0   \n",
       "1                            coronary artery disease                    0   \n",
       "2  coronary artery disease\\coronary artery bypass...                    0   \n",
       "3                           congestive heart failure                    0   \n",
       "4  coronary artery disease\\coronary artery bypass...                    0   \n",
       "\n",
       "  HAS_CHARTEVENTS_DATA  age  TOTAL_FORM_VAL_DISP_MAX              drug  \n",
       "0                    1   50                     1.25  Morphine Sulfate  \n",
       "1                    1   39                     2.00  Morphine Sulfate  \n",
       "2                    1   75                     3.00  Morphine Sulfate  \n",
       "3                    1   87                     2.00  Morphine Sulfate  \n",
       "4                    1   71                     0.40  Morphine Sulfate  \n",
       "\n",
       "[5 rows x 22 columns]"
      ]
     },
     "execution_count": 3,
     "metadata": {},
     "output_type": "execute_result"
    }
   ],
   "source": [
    "df.head()"
   ]
  },
  {
   "cell_type": "code",
   "execution_count": 4,
   "metadata": {},
   "outputs": [],
   "source": [
    "def df_to_X(df):\n",
    "    \n",
    "    # include age and hospital expire flag\n",
    "    covariates = ['age', 'HOSPITAL_EXPIRE_FLAG']\n",
    "    X = df[covariates]\n",
    "    \n",
    "    # include onehots for diagnosis\n",
    "    diagnosis = pd.get_dummies(df.DIAGNOSIS)\n",
    "    diagnosis.columns = ['DIAGNOSIS:%s' %d for d in diagnosis.columns]\n",
    "    X = pd.concat([X, diagnosis], axis=1)\n",
    "    \n",
    "    # include duration of hosptial stay\n",
    "    hosp_duration = (df['DISCHTIME'].astype('datetime64[ns]') - df['ADMITTIME'].astype('datetime64[ns]')).dt.days\n",
    "    X['hosp_duration'] = hosp_duration\n",
    "    \n",
    "    # include onehots for insurance\n",
    "    insur = pd.get_dummies(df.INSURANCE)\n",
    "    insur.columns = ['INSURANCE:%s' %i for i in insur.columns]\n",
    "    X = pd.concat([X, insur], axis=1)  \n",
    "\n",
    "    \n",
    "    # normalize duration because it is non-categorical\n",
    "    d_mu = X['hosp_duration'].mean()\n",
    "    d_std = X['hosp_duration'].std()\n",
    "    X['hosp_duration'] = X['hosp_duration'].apply(lambda dp: (dp-d_mu)/d_std)\n",
    "\n",
    "    # normalize age because non-categorical\n",
    "    age_mu = X['age'].mean()\n",
    "    age_std = X['age'].std()\n",
    "    X['age'] = X['age'].apply(lambda age: (age-age_mu)/age_std)\n",
    "\n",
    "    return X\n",
    "\n",
    "def df_to_T(df, eth):\n",
    "    return df['ETHNICITY'].apply(lambda x: int(x==eth))\n",
    "\n",
    "def df_to_Y(df):\n",
    "    return df['TOTAL_FORM_VAL_DISP_MAX']"
   ]
  },
  {
   "cell_type": "code",
   "execution_count": 5,
   "metadata": {},
   "outputs": [
    {
     "name": "stdout",
     "output_type": "stream",
     "text": [
      "X:  (6618, 122)\n",
      "T:  (6618,)\n",
      "Y:  (6618,)\n"
     ]
    }
   ],
   "source": [
    "X = df_to_X(df)\n",
    "T = df_to_T(df, 'WHITE')\n",
    "Y = df_to_Y(df)\n",
    "print('X: ', X.shape)\n",
    "print(\"T: \", T.shape)\n",
    "print(\"Y: \", Y.shape)"
   ]
  },
  {
   "cell_type": "code",
   "execution_count": 9,
   "metadata": {},
   "outputs": [
    {
     "name": "stderr",
     "output_type": "stream",
     "text": [
      "/usr/local/lib/python3.7/site-packages/sklearn/linear_model/logistic.py:432: FutureWarning: Default solver will be changed to 'lbfgs' in 0.22. Specify a solver to silence this warning.\n",
      "  FutureWarning)\n"
     ]
    },
    {
     "name": "stdout",
     "output_type": "stream",
     "text": [
      "treated ATE with inverse propensity:  1.9243670273957083\n",
      "no treated ATE with inverse propensity:  1.7621489194068773\n",
      "difference between treated and no treated:  0.16221810798883096\n"
     ]
    }
   ],
   "source": [
    "T = df_to_T(df, 'WHITE')\n",
    "\n",
    "clf = LogisticRegression().fit(X, T)\n",
    "\n",
    "treated = np.where(T==1)[0]\n",
    "no_treated = np.where(T==0)[0]\n",
    "\n",
    "predict = list(range(len(X)))\n",
    "for i in range(len(X)):\n",
    "    predict[i] = clf.predict_proba([X.iloc[i]])\n",
    "    \n",
    "ATE = 0\n",
    "for i in treated:\n",
    "    ATE += Y[i]/predict[i][0][1]\n",
    "ans = ATE/len(df)\n",
    "print(\"treated ATE with inverse propensity: \", ans)\n",
    "\n",
    "ATE2 = 0\n",
    "for i in no_treated:\n",
    "    ATE2 += Y[i]/predict[i][0][0]\n",
    "ans2 = ATE2/len(df)\n",
    "print(\"no treated ATE with inverse propensity: \", ans2)\n",
    "\n",
    "print(\"difference between treated and no treated: \", ans - ans2)"
   ]
  },
  {
   "cell_type": "code",
   "execution_count": 11,
   "metadata": {},
   "outputs": [
    {
     "name": "stderr",
     "output_type": "stream",
     "text": [
      "/usr/local/lib/python3.7/site-packages/sklearn/linear_model/logistic.py:432: FutureWarning: Default solver will be changed to 'lbfgs' in 0.22. Specify a solver to silence this warning.\n",
      "  FutureWarning)\n"
     ]
    },
    {
     "name": "stdout",
     "output_type": "stream",
     "text": [
      "treated ATE with inverse propensity:  1.7163226794520907\n",
      "no treated ATE with inverse propensity:  1.9228039884806178\n",
      "difference between treated and no treated:  -0.20648130902852713\n"
     ]
    }
   ],
   "source": [
    "T = df_to_T(df, 'BLACK')\n",
    "\n",
    "clf = LogisticRegression().fit(X, T)\n",
    "\n",
    "treated = np.where(T==1)[0]\n",
    "no_treated = np.where(T==0)[0]\n",
    "\n",
    "predict = list(range(len(X)))\n",
    "for i in range(len(X)):\n",
    "    predict[i] = clf.predict_proba([X.iloc[i]])\n",
    "    \n",
    "ATE = 0\n",
    "for i in treated:\n",
    "    ATE += Y[i]/predict[i][0][1]\n",
    "ans = ATE/len(df)\n",
    "print(\"treated ATE with inverse propensity: \", ans)\n",
    "\n",
    "ATE2 = 0\n",
    "for i in no_treated:\n",
    "    ATE2 += Y[i]/predict[i][0][0]\n",
    "ans2 = ATE2/len(df)\n",
    "print(\"no treated ATE with inverse propensity: \", ans2)\n",
    "\n",
    "print(\"difference between treated and no treated: \", ans - ans2)"
   ]
  },
  {
   "cell_type": "code",
   "execution_count": 12,
   "metadata": {},
   "outputs": [
    {
     "name": "stderr",
     "output_type": "stream",
     "text": [
      "/usr/local/lib/python3.7/site-packages/sklearn/linear_model/logistic.py:432: FutureWarning: Default solver will be changed to 'lbfgs' in 0.22. Specify a solver to silence this warning.\n",
      "  FutureWarning)\n"
     ]
    },
    {
     "name": "stdout",
     "output_type": "stream",
     "text": [
      "treated ATE with inverse propensity:  1.7837247968392604\n",
      "no treated ATE with inverse propensity:  1.9154913152470474\n",
      "difference between treated and no treated:  -0.13176651840778697\n"
     ]
    }
   ],
   "source": [
    "T = df_to_T(df, 'ASIAN')\n",
    "\n",
    "clf = LogisticRegression().fit(X, T)\n",
    "\n",
    "treated = np.where(T==1)[0]\n",
    "no_treated = np.where(T==0)[0]\n",
    "\n",
    "predict = list(range(len(X)))\n",
    "for i in range(len(X)):\n",
    "    predict[i] = clf.predict_proba([X.iloc[i]])\n",
    "    \n",
    "ATE = 0\n",
    "for i in treated:\n",
    "    ATE += Y[i]/predict[i][0][1]\n",
    "ans = ATE/len(df)\n",
    "print(\"treated ATE with inverse propensity: \", ans)\n",
    "\n",
    "ATE2 = 0\n",
    "for i in no_treated:\n",
    "    ATE2 += Y[i]/predict[i][0][0]\n",
    "ans2 = ATE2/len(df)\n",
    "print(\"no treated ATE with inverse propensity: \", ans2)\n",
    "\n",
    "print(\"difference between treated and no treated: \", ans - ans2)"
   ]
  },
  {
   "cell_type": "code",
   "execution_count": 13,
   "metadata": {},
   "outputs": [
    {
     "name": "stderr",
     "output_type": "stream",
     "text": [
      "/usr/local/lib/python3.7/site-packages/sklearn/linear_model/logistic.py:432: FutureWarning: Default solver will be changed to 'lbfgs' in 0.22. Specify a solver to silence this warning.\n",
      "  FutureWarning)\n"
     ]
    },
    {
     "name": "stdout",
     "output_type": "stream",
     "text": [
      "treated ATE with inverse propensity:  1.5354823597319571\n",
      "no treated ATE with inverse propensity:  1.9241439205935043\n",
      "difference between treated and no treated:  -0.38866156086154713\n"
     ]
    }
   ],
   "source": [
    "T = df_to_T(df, 'HISPANIC')\n",
    "\n",
    "clf = LogisticRegression().fit(X, T)\n",
    "\n",
    "treated = np.where(T==1)[0]\n",
    "no_treated = np.where(T==0)[0]\n",
    "\n",
    "predict = list(range(len(X)))\n",
    "for i in range(len(X)):\n",
    "    predict[i] = clf.predict_proba([X.iloc[i]])\n",
    "    \n",
    "ATE = 0\n",
    "for i in treated:\n",
    "    ATE += Y[i]/predict[i][0][1]\n",
    "ans = ATE/len(df)\n",
    "print(\"treated ATE with inverse propensity: \", ans)\n",
    "\n",
    "ATE2 = 0\n",
    "for i in no_treated:\n",
    "    ATE2 += Y[i]/predict[i][0][0]\n",
    "ans2 = ATE2/len(df)\n",
    "print(\"no treated ATE with inverse propensity: \", ans2)\n",
    "\n",
    "print(\"difference between treated and no treated: \", ans - ans2)"
   ]
  },
  {
   "cell_type": "code",
   "execution_count": 18,
   "metadata": {},
   "outputs": [
    {
     "data": {
      "text/plain": [
       "Index(['age', 'HOSPITAL_EXPIRE_FLAG', 'DIAGNOSIS:abdominal aortic aneurysm',\n",
       "       'DIAGNOSIS:abdominal aortic aneurysm/sda', 'DIAGNOSIS:abdominal pain',\n",
       "       'DIAGNOSIS:acute coronary syndrome',\n",
       "       'DIAGNOSIS:acute myocardial infarction',\n",
       "       'DIAGNOSIS:acute renal failure', 'DIAGNOSIS:acute subdural hematoma',\n",
       "       'DIAGNOSIS:airway obstruction',\n",
       "       ...\n",
       "       'DIAGNOSIS:upper gastrointestinal bleed', 'DIAGNOSIS:upper gi bleed',\n",
       "       'DIAGNOSIS:urosepsis', 'DIAGNOSIS:weakness', 'hosp_duration',\n",
       "       'INSURANCE:Government', 'INSURANCE:Medicaid', 'INSURANCE:Medicare',\n",
       "       'INSURANCE:Private', 'INSURANCE:Self Pay'],\n",
       "      dtype='object', length=122)"
      ]
     },
     "execution_count": 18,
     "metadata": {},
     "output_type": "execute_result"
    }
   ],
   "source": [
    "X.columns"
   ]
  },
  {
   "cell_type": "code",
   "execution_count": 21,
   "metadata": {},
   "outputs": [
    {
     "data": {
      "text/plain": [
       "5"
      ]
     },
     "execution_count": 21,
     "metadata": {},
     "output_type": "execute_result"
    }
   ],
   "source": [
    "len(df.INSURANCE.value_counts())"
   ]
  },
  {
   "cell_type": "code",
   "execution_count": null,
   "metadata": {},
   "outputs": [],
   "source": []
  }
 ],
 "metadata": {
  "kernelspec": {
   "display_name": "Python 3",
   "language": "python",
   "name": "python3"
  },
  "language_info": {
   "codemirror_mode": {
    "name": "ipython",
    "version": 3
   },
   "file_extension": ".py",
   "mimetype": "text/x-python",
   "name": "python",
   "nbconvert_exporter": "python",
   "pygments_lexer": "ipython3",
   "version": "3.7.0"
  }
 },
 "nbformat": 4,
 "nbformat_minor": 2
}
